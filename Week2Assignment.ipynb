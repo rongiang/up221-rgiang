{
 "cells": [
  {
   "cell_type": "code",
   "execution_count": 33,
   "id": "bf3c8cbe-7b1d-4b4a-9559-130aadbf72f0",
   "metadata": {},
   "outputs": [],
   "source": [
    "#import two code libraries into the notebook\n",
    "import pandas as pd\n",
    "import geopandas as gpd\n",
    "\n"
   ]
  },
  {
   "cell_type": "code",
   "execution_count": 44,
   "id": "46fd94b4-944c-44fb-a14d-b86919d4e881",
   "metadata": {},
   "outputs": [],
   "source": [
    "#import shapefile containing data on bus stop times\n",
    "stoptimes = pd.read_csv('data/stop_times.txt')"
   ]
  },
  {
   "cell_type": "code",
   "execution_count": 45,
   "id": "943145b1-a4bf-427a-a8ab-4fdcb4fc9837",
   "metadata": {},
   "outputs": [
    {
     "data": {
      "text/html": [
       "<div>\n",
       "<style scoped>\n",
       "    .dataframe tbody tr th:only-of-type {\n",
       "        vertical-align: middle;\n",
       "    }\n",
       "\n",
       "    .dataframe tbody tr th {\n",
       "        vertical-align: top;\n",
       "    }\n",
       "\n",
       "    .dataframe thead th {\n",
       "        text-align: right;\n",
       "    }\n",
       "</style>\n",
       "<table border=\"1\" class=\"dataframe\">\n",
       "  <thead>\n",
       "    <tr style=\"text-align: right;\">\n",
       "      <th></th>\n",
       "      <th>trip_id</th>\n",
       "      <th>arrival_time</th>\n",
       "      <th>departure_time</th>\n",
       "      <th>stop_id</th>\n",
       "      <th>stop_sequence</th>\n",
       "      <th>stop_headsign</th>\n",
       "      <th>pickup_type</th>\n",
       "      <th>drop_off_type</th>\n",
       "      <th>trip_id_event</th>\n",
       "      <th>route_code</th>\n",
       "      <th>destination_code</th>\n",
       "      <th>timepoint</th>\n",
       "      <th>bay_number</th>\n",
       "    </tr>\n",
       "  </thead>\n",
       "  <tbody>\n",
       "    <tr>\n",
       "      <th>0</th>\n",
       "      <td>10167001080620-JUNE24</td>\n",
       "      <td>06:20:00</td>\n",
       "      <td>06:20:00</td>\n",
       "      <td>152</td>\n",
       "      <td>1</td>\n",
       "      <td>167 - Coldwater Canyon - Ventura</td>\n",
       "      <td>0</td>\n",
       "      <td>0</td>\n",
       "      <td>59702020-JUNE24-D08CAR-1_Weekday</td>\n",
       "      <td>167.0</td>\n",
       "      <td>Coldwater Canyon - Ventura</td>\n",
       "      <td>1.0</td>\n",
       "      <td></td>\n",
       "    </tr>\n",
       "    <tr>\n",
       "      <th>1</th>\n",
       "      <td>10167001080620-JUNE24</td>\n",
       "      <td>06:21:00</td>\n",
       "      <td>06:21:00</td>\n",
       "      <td>1016</td>\n",
       "      <td>2</td>\n",
       "      <td>167 - Coldwater Canyon - Ventura</td>\n",
       "      <td>0</td>\n",
       "      <td>0</td>\n",
       "      <td>59702020-JUNE24-D08CAR-1_Weekday</td>\n",
       "      <td>167.0</td>\n",
       "      <td>Coldwater Canyon - Ventura</td>\n",
       "      <td>0.0</td>\n",
       "      <td></td>\n",
       "    </tr>\n",
       "    <tr>\n",
       "      <th>2</th>\n",
       "      <td>10167001080620-JUNE24</td>\n",
       "      <td>06:22:00</td>\n",
       "      <td>06:22:00</td>\n",
       "      <td>1043</td>\n",
       "      <td>3</td>\n",
       "      <td>167 - Coldwater Canyon - Ventura</td>\n",
       "      <td>0</td>\n",
       "      <td>0</td>\n",
       "      <td>59702020-JUNE24-D08CAR-1_Weekday</td>\n",
       "      <td>167.0</td>\n",
       "      <td>Coldwater Canyon - Ventura</td>\n",
       "      <td>0.0</td>\n",
       "      <td></td>\n",
       "    </tr>\n",
       "    <tr>\n",
       "      <th>3</th>\n",
       "      <td>10167001080620-JUNE24</td>\n",
       "      <td>06:23:00</td>\n",
       "      <td>06:23:00</td>\n",
       "      <td>1018</td>\n",
       "      <td>4</td>\n",
       "      <td>167 - Coldwater Canyon - Ventura</td>\n",
       "      <td>0</td>\n",
       "      <td>0</td>\n",
       "      <td>59702020-JUNE24-D08CAR-1_Weekday</td>\n",
       "      <td>167.0</td>\n",
       "      <td>Coldwater Canyon - Ventura</td>\n",
       "      <td>0.0</td>\n",
       "      <td></td>\n",
       "    </tr>\n",
       "    <tr>\n",
       "      <th>4</th>\n",
       "      <td>10167001080620-JUNE24</td>\n",
       "      <td>06:24:00</td>\n",
       "      <td>06:24:00</td>\n",
       "      <td>981</td>\n",
       "      <td>5</td>\n",
       "      <td>167 - Coldwater Canyon - Ventura</td>\n",
       "      <td>0</td>\n",
       "      <td>0</td>\n",
       "      <td>59702020-JUNE24-D08CAR-1_Weekday</td>\n",
       "      <td>167.0</td>\n",
       "      <td>Coldwater Canyon - Ventura</td>\n",
       "      <td>0.0</td>\n",
       "      <td></td>\n",
       "    </tr>\n",
       "  </tbody>\n",
       "</table>\n",
       "</div>"
      ],
      "text/plain": [
       "                 trip_id arrival_time departure_time  stop_id  stop_sequence  \\\n",
       "0  10167001080620-JUNE24     06:20:00       06:20:00      152              1   \n",
       "1  10167001080620-JUNE24     06:21:00       06:21:00     1016              2   \n",
       "2  10167001080620-JUNE24     06:22:00       06:22:00     1043              3   \n",
       "3  10167001080620-JUNE24     06:23:00       06:23:00     1018              4   \n",
       "4  10167001080620-JUNE24     06:24:00       06:24:00      981              5   \n",
       "\n",
       "                      stop_headsign  pickup_type  drop_off_type  \\\n",
       "0  167 - Coldwater Canyon - Ventura            0              0   \n",
       "1  167 - Coldwater Canyon - Ventura            0              0   \n",
       "2  167 - Coldwater Canyon - Ventura            0              0   \n",
       "3  167 - Coldwater Canyon - Ventura            0              0   \n",
       "4  167 - Coldwater Canyon - Ventura            0              0   \n",
       "\n",
       "                      trip_id_event  route_code            destination_code  \\\n",
       "0  59702020-JUNE24-D08CAR-1_Weekday       167.0  Coldwater Canyon - Ventura   \n",
       "1  59702020-JUNE24-D08CAR-1_Weekday       167.0  Coldwater Canyon - Ventura   \n",
       "2  59702020-JUNE24-D08CAR-1_Weekday       167.0  Coldwater Canyon - Ventura   \n",
       "3  59702020-JUNE24-D08CAR-1_Weekday       167.0  Coldwater Canyon - Ventura   \n",
       "4  59702020-JUNE24-D08CAR-1_Weekday       167.0  Coldwater Canyon - Ventura   \n",
       "\n",
       "   timepoint bay_number  \n",
       "0        1.0             \n",
       "1        0.0             \n",
       "2        0.0             \n",
       "3        0.0             \n",
       "4        0.0             "
      ]
     },
     "execution_count": 45,
     "metadata": {},
     "output_type": "execute_result"
    }
   ],
   "source": [
    "#observing the first five rows\n",
    "stoptimes.head()"
   ]
  },
  {
   "cell_type": "code",
   "execution_count": 50,
   "id": "07e23059-9d60-4d43-a8de-32ad7b20c505",
   "metadata": {},
   "outputs": [
    {
     "data": {
      "text/plain": [
       "arrival_time\n",
       "14:19:00    338\n",
       "16:27:00    338\n",
       "16:07:00    335\n",
       "17:02:00    333\n",
       "16:39:00    329\n",
       "           ... \n",
       "03:33:00      1\n",
       "03:40:00      1\n",
       "03:26:00      1\n",
       "03:20:00      1\n",
       "03:44:00      1\n",
       "Name: count, Length: 1547, dtype: int64"
      ]
     },
     "execution_count": 50,
     "metadata": {},
     "output_type": "execute_result"
    }
   ],
   "source": [
    "#look at arrival time\n",
    "arrivalstoptime = stoptimes['arrival_time'].value_counts()\n",
    "arrivalstoptime"
   ]
  },
  {
   "cell_type": "code",
   "execution_count": 72,
   "id": "2d7e6087-8571-4f04-8103-e5378916864e",
   "metadata": {},
   "outputs": [
    {
     "data": {
      "text/plain": [
       "<bound method DataFrame.info of                       trip_id arrival_time departure_time  stop_id  \\\n",
       "0       10167001080620-JUNE24     06:20:00       06:20:00      152   \n",
       "1       10167001080620-JUNE24     06:21:00       06:21:00     1016   \n",
       "2       10167001080620-JUNE24     06:22:00       06:22:00     1043   \n",
       "3       10167001080620-JUNE24     06:23:00       06:23:00     1018   \n",
       "4       10167001080620-JUNE24     06:24:00       06:24:00      981   \n",
       "...                       ...          ...            ...      ...   \n",
       "284767  10094002642545-JUNE24     26:42:00       26:42:00      955   \n",
       "284768  10094002642545-JUNE24     26:43:00       26:43:00      278   \n",
       "284769  10094002642545-JUNE24     26:44:00       26:44:00     2456   \n",
       "284770  10094002642545-JUNE24     26:45:00       26:45:00     5143   \n",
       "284771  10094002642545-JUNE24     26:46:00       26:46:00     5145   \n",
       "\n",
       "        stop_sequence                     stop_headsign  pickup_type  \\\n",
       "0                   1  167 - Coldwater Canyon - Ventura            0   \n",
       "1                   2  167 - Coldwater Canyon - Ventura            0   \n",
       "2                   3  167 - Coldwater Canyon - Ventura            0   \n",
       "3                   4  167 - Coldwater Canyon - Ventura            0   \n",
       "4                   5  167 - Coldwater Canyon - Ventura            0   \n",
       "...               ...                               ...          ...   \n",
       "284767             66  94 - Downtown LA - Hill - Venice            0   \n",
       "284768             67  94 - Downtown LA - Hill - Venice            0   \n",
       "284769             68  94 - Downtown LA - Hill - Venice            0   \n",
       "284770             69  94 - Downtown LA - Hill - Venice            0   \n",
       "284771             70  94 - Downtown LA - Hill - Venice            0   \n",
       "\n",
       "        drop_off_type                     trip_id_event  route_code  \\\n",
       "0                   0  59702020-JUNE24-D08CAR-1_Weekday       167.0   \n",
       "1                   0  59702020-JUNE24-D08CAR-1_Weekday       167.0   \n",
       "2                   0  59702020-JUNE24-D08CAR-1_Weekday       167.0   \n",
       "3                   0  59702020-JUNE24-D08CAR-1_Weekday       167.0   \n",
       "4                   0  59702020-JUNE24-D08CAR-1_Weekday       167.0   \n",
       "...               ...                               ...         ...   \n",
       "284767              0  59809899-JUNE24-D15CAR-1_Weekday        94.0   \n",
       "284768              0  59809899-JUNE24-D15CAR-1_Weekday        94.0   \n",
       "284769              0  59809899-JUNE24-D15CAR-1_Weekday        94.0   \n",
       "284770              0  59809899-JUNE24-D15CAR-1_Weekday        94.0   \n",
       "284771              0        59809899-JUNE24-D15CAR-1_W         NaN   \n",
       "\n",
       "                   destination_code  timepoint bay_number  \n",
       "0        Coldwater Canyon - Ventura        1.0             \n",
       "1        Coldwater Canyon - Ventura        0.0             \n",
       "2        Coldwater Canyon - Ventura        0.0             \n",
       "3        Coldwater Canyon - Ventura        0.0             \n",
       "4        Coldwater Canyon - Ventura        0.0             \n",
       "...                             ...        ...        ...  \n",
       "284767  Downtown LA - Hill - Venice        0.0             \n",
       "284768  Downtown LA - Hill - Venice        0.0             \n",
       "284769  Downtown LA - Hill - Venice        0.0             \n",
       "284770  Downtown LA - Hill - Venice        0.0             \n",
       "284771                          NaN        NaN        NaN  \n",
       "\n",
       "[284772 rows x 13 columns]>"
      ]
     },
     "execution_count": 72,
     "metadata": {},
     "output_type": "execute_result"
    }
   ],
   "source": [
    "#information about data\n",
    "stoptimes.info"
   ]
  },
  {
   "cell_type": "code",
   "execution_count": 51,
   "id": "59de6b9b-4a5a-4af6-acb7-7558ca834fb1",
   "metadata": {},
   "outputs": [
    {
     "data": {
      "text/plain": [
       "<Axes: xlabel='arrival_time'>"
      ]
     },
     "execution_count": 51,
     "metadata": {},
     "output_type": "execute_result"
    },
    {
     "data": {
      "image/png": "[encoded data removed]",
      "text/plain": [
       "<Figure size 640x480 with 1 Axes>"
      ]
     },
     "metadata": {},
     "output_type": "display_data"
    }
   ],
   "source": [
    "#plot of arrival time\n",
    "arrivalstoptime.plot()\n"
   ]
  },
  {
   "cell_type": "code",
   "execution_count": 60,
   "id": "577a2232-c8b2-4bf6-94a7-f276f3801951",
   "metadata": {},
   "outputs": [],
   "source": [
    "#filter out information\n",
    "desired_columns = ['arrival_time', 'departure_time', 'stop_id',]\n"
   ]
  },
  {
   "cell_type": "code",
   "execution_count": 62,
   "id": "21dbf8c3-a2bb-463b-9011-f99213cb2079",
   "metadata": {},
   "outputs": [
    {
     "data": {
      "text/html": [
       "<div>\n",
       "<style scoped>\n",
       "    .dataframe tbody tr th:only-of-type {\n",
       "        vertical-align: middle;\n",
       "    }\n",
       "\n",
       "    .dataframe tbody tr th {\n",
       "        vertical-align: top;\n",
       "    }\n",
       "\n",
       "    .dataframe thead th {\n",
       "        text-align: right;\n",
       "    }\n",
       "</style>\n",
       "<table border=\"1\" class=\"dataframe\">\n",
       "  <thead>\n",
       "    <tr style=\"text-align: right;\">\n",
       "      <th></th>\n",
       "      <th>arrival_time</th>\n",
       "      <th>departure_time</th>\n",
       "      <th>stop_id</th>\n",
       "    </tr>\n",
       "  </thead>\n",
       "  <tbody>\n",
       "    <tr>\n",
       "      <th>16475</th>\n",
       "      <td>08:40:00</td>\n",
       "      <td>08:40:00</td>\n",
       "      <td>17486</td>\n",
       "    </tr>\n",
       "    <tr>\n",
       "      <th>120633</th>\n",
       "      <td>19:18:00</td>\n",
       "      <td>19:18:00</td>\n",
       "      <td>7214</td>\n",
       "    </tr>\n",
       "    <tr>\n",
       "      <th>116081</th>\n",
       "      <td>14:02:00</td>\n",
       "      <td>14:02:00</td>\n",
       "      <td>6378</td>\n",
       "    </tr>\n",
       "    <tr>\n",
       "      <th>4804</th>\n",
       "      <td>16:16:00</td>\n",
       "      <td>16:16:00</td>\n",
       "      <td>18166</td>\n",
       "    </tr>\n",
       "    <tr>\n",
       "      <th>162107</th>\n",
       "      <td>12:59:00</td>\n",
       "      <td>12:59:00</td>\n",
       "      <td>350</td>\n",
       "    </tr>\n",
       "  </tbody>\n",
       "</table>\n",
       "</div>"
      ],
      "text/plain": [
       "       arrival_time departure_time  stop_id\n",
       "16475      08:40:00       08:40:00    17486\n",
       "120633     19:18:00       19:18:00     7214\n",
       "116081     14:02:00       14:02:00     6378\n",
       "4804       16:16:00       16:16:00    18166\n",
       "162107     12:59:00       12:59:00      350"
      ]
     },
     "execution_count": 62,
     "metadata": {},
     "output_type": "execute_result"
    }
   ],
   "source": [
    "stoptimes[desired_columns].sample(5)\n"
   ]
  },
  {
   "cell_type": "code",
   "execution_count": 70,
   "id": "72cfa22e-c10d-4430-bc55-f4245be6b9b1",
   "metadata": {},
   "outputs": [
    {
     "data": {
      "text/html": [
       "<div>\n",
       "<style scoped>\n",
       "    .dataframe tbody tr th:only-of-type {\n",
       "        vertical-align: middle;\n",
       "    }\n",
       "\n",
       "    .dataframe tbody tr th {\n",
       "        vertical-align: top;\n",
       "    }\n",
       "\n",
       "    .dataframe thead th {\n",
       "        text-align: right;\n",
       "    }\n",
       "</style>\n",
       "<table border=\"1\" class=\"dataframe\">\n",
       "  <thead>\n",
       "    <tr style=\"text-align: right;\">\n",
       "      <th></th>\n",
       "      <th>arrival_time</th>\n",
       "      <th>departure_time</th>\n",
       "      <th>stop_id</th>\n",
       "    </tr>\n",
       "  </thead>\n",
       "  <tbody>\n",
       "    <tr>\n",
       "      <th>0</th>\n",
       "      <td>06:20:00</td>\n",
       "      <td>06:20:00</td>\n",
       "      <td>152</td>\n",
       "    </tr>\n",
       "    <tr>\n",
       "      <th>1</th>\n",
       "      <td>06:21:00</td>\n",
       "      <td>06:21:00</td>\n",
       "      <td>1016</td>\n",
       "    </tr>\n",
       "    <tr>\n",
       "      <th>2</th>\n",
       "      <td>06:22:00</td>\n",
       "      <td>06:22:00</td>\n",
       "      <td>1043</td>\n",
       "    </tr>\n",
       "    <tr>\n",
       "      <th>3</th>\n",
       "      <td>06:23:00</td>\n",
       "      <td>06:23:00</td>\n",
       "      <td>1018</td>\n",
       "    </tr>\n",
       "    <tr>\n",
       "      <th>4</th>\n",
       "      <td>06:24:00</td>\n",
       "      <td>06:24:00</td>\n",
       "      <td>981</td>\n",
       "    </tr>\n",
       "    <tr>\n",
       "      <th>...</th>\n",
       "      <td>...</td>\n",
       "      <td>...</td>\n",
       "      <td>...</td>\n",
       "    </tr>\n",
       "    <tr>\n",
       "      <th>284767</th>\n",
       "      <td>26:42:00</td>\n",
       "      <td>26:42:00</td>\n",
       "      <td>955</td>\n",
       "    </tr>\n",
       "    <tr>\n",
       "      <th>284768</th>\n",
       "      <td>26:43:00</td>\n",
       "      <td>26:43:00</td>\n",
       "      <td>278</td>\n",
       "    </tr>\n",
       "    <tr>\n",
       "      <th>284769</th>\n",
       "      <td>26:44:00</td>\n",
       "      <td>26:44:00</td>\n",
       "      <td>2456</td>\n",
       "    </tr>\n",
       "    <tr>\n",
       "      <th>284770</th>\n",
       "      <td>26:45:00</td>\n",
       "      <td>26:45:00</td>\n",
       "      <td>5143</td>\n",
       "    </tr>\n",
       "    <tr>\n",
       "      <th>284771</th>\n",
       "      <td>26:46:00</td>\n",
       "      <td>26:46:00</td>\n",
       "      <td>5145</td>\n",
       "    </tr>\n",
       "  </tbody>\n",
       "</table>\n",
       "<p>284772 rows × 3 columns</p>\n",
       "</div>"
      ],
      "text/plain": [
       "       arrival_time departure_time  stop_id\n",
       "0          06:20:00       06:20:00      152\n",
       "1          06:21:00       06:21:00     1016\n",
       "2          06:22:00       06:22:00     1043\n",
       "3          06:23:00       06:23:00     1018\n",
       "4          06:24:00       06:24:00      981\n",
       "...             ...            ...      ...\n",
       "284767     26:42:00       26:42:00      955\n",
       "284768     26:43:00       26:43:00      278\n",
       "284769     26:44:00       26:44:00     2456\n",
       "284770     26:45:00       26:45:00     5143\n",
       "284771     26:46:00       26:46:00     5145\n",
       "\n",
       "[284772 rows x 3 columns]"
      ]
     },
     "execution_count": 70,
     "metadata": {},
     "output_type": "execute_result"
    }
   ],
   "source": [
    "waittimes= stoptimes[desired_columns].copy()\n",
    "waittimes\n"
   ]
  },
  {
   "cell_type": "code",
   "execution_count": 71,
   "id": "c60fb6c8-326a-4852-8656-96fdd8903766",
   "metadata": {},
   "outputs": [
    {
     "data": {
      "text/plain": [
       "<Axes: >"
      ]
     },
     "execution_count": 71,
     "metadata": {},
     "output_type": "execute_result"
    },
    {
     "data": {
      "image/png": "[encoded data removed]",
      "text/plain": [
       "<Figure size 640x480 with 1 Axes>"
      ]
     },
     "metadata": {},
     "output_type": "display_data"
    }
   ],
   "source": [
    "waittimes.plot()"
   ]
  },
  {
   "cell_type": "code",
   "execution_count": null,
   "id": "47dc767c-5017-43d8-b6b4-02dc83b43ad7",
   "metadata": {},
   "outputs": [],
   "source": []
  }
 ],
 "metadata": {
  "kernelspec": {
   "display_name": "Python 3 (ipykernel)",
   "language": "python",
   "name": "python3"
  },
  "language_info": {
   "codemirror_mode": {
    "name": "ipython",
    "version": 3
   },
   "file_extension": ".py",
   "mimetype": "text/x-python",
   "name": "python",
   "nbconvert_exporter": "python",
   "pygments_lexer": "ipython3",
   "version": "3.11.9"
  }
 },
 "nbformat": 4,
 "nbformat_minor": 5
}
